{
 "cells": [
  {
   "cell_type": "code",
   "execution_count": 26,
   "id": "dada3462",
   "metadata": {},
   "outputs": [
    {
     "name": "stdout",
     "output_type": "stream",
     "text": [
      "Requirement already satisfied: kaggle in c:\\users\\laptop\\appdata\\local\\programs\\python\\python311\\lib\\site-packages (1.7.4.2)\n",
      "Requirement already satisfied: bleach in c:\\users\\laptop\\appdata\\local\\programs\\python\\python311\\lib\\site-packages (from kaggle) (6.2.0)\n",
      "Requirement already satisfied: certifi>=14.05.14 in c:\\users\\laptop\\appdata\\local\\programs\\python\\python311\\lib\\site-packages (from kaggle) (2024.2.2)\n",
      "Requirement already satisfied: charset-normalizer in c:\\users\\laptop\\appdata\\local\\programs\\python\\python311\\lib\\site-packages (from kaggle) (3.3.2)\n",
      "Requirement already satisfied: idna in c:\\users\\laptop\\appdata\\local\\programs\\python\\python311\\lib\\site-packages (from kaggle) (3.7)\n",
      "Requirement already satisfied: protobuf in c:\\users\\laptop\\appdata\\local\\programs\\python\\python311\\lib\\site-packages (from kaggle) (4.25.3)\n",
      "Requirement already satisfied: python-dateutil>=2.5.3 in c:\\users\\laptop\\appdata\\local\\programs\\python\\python311\\lib\\site-packages (from kaggle) (2.9.0.post0)\n",
      "Requirement already satisfied: python-slugify in c:\\users\\laptop\\appdata\\local\\programs\\python\\python311\\lib\\site-packages (from kaggle) (8.0.4)\n",
      "Requirement already satisfied: requests in c:\\users\\laptop\\appdata\\local\\programs\\python\\python311\\lib\\site-packages (from kaggle) (2.31.0)\n",
      "Requirement already satisfied: setuptools>=21.0.0 in c:\\users\\laptop\\appdata\\local\\programs\\python\\python311\\lib\\site-packages (from kaggle) (65.5.0)\n",
      "Requirement already satisfied: six>=1.10 in c:\\users\\laptop\\appdata\\local\\programs\\python\\python311\\lib\\site-packages (from kaggle) (1.16.0)\n",
      "Requirement already satisfied: text-unidecode in c:\\users\\laptop\\appdata\\local\\programs\\python\\python311\\lib\\site-packages (from kaggle) (1.3)\n",
      "Requirement already satisfied: tqdm in c:\\users\\laptop\\appdata\\local\\programs\\python\\python311\\lib\\site-packages (from kaggle) (4.66.5)\n",
      "Requirement already satisfied: urllib3>=1.15.1 in c:\\users\\laptop\\appdata\\local\\programs\\python\\python311\\lib\\site-packages (from kaggle) (2.2.1)\n",
      "Requirement already satisfied: webencodings in c:\\users\\laptop\\appdata\\local\\programs\\python\\python311\\lib\\site-packages (from kaggle) (0.5.1)\n",
      "Requirement already satisfied: colorama in c:\\users\\laptop\\appdata\\local\\programs\\python\\python311\\lib\\site-packages (from tqdm->kaggle) (0.4.6)\n",
      "Note: you may need to restart the kernel to use updated packages.\n"
     ]
    },
    {
     "name": "stderr",
     "output_type": "stream",
     "text": [
      "\n",
      "[notice] A new release of pip is available: 25.0.1 -> 25.1.1\n",
      "[notice] To update, run: python.exe -m pip install --upgrade pip\n"
     ]
    }
   ],
   "source": [
    "%pip install kaggle"
   ]
  },
  {
   "cell_type": "code",
   "execution_count": 4,
   "id": "c73706c4",
   "metadata": {
    "scrolled": true
   },
   "outputs": [
    {
     "ename": "PermissionError",
     "evalue": "[Errno 13] Permission denied: 'C:\\\\Users\\\\LAPTOP/.kaggle/kaggle.json'",
     "output_type": "error",
     "traceback": [
      "\u001b[31m---------------------------------------------------------------------------\u001b[39m",
      "\u001b[31mFileExistsError\u001b[39m                           Traceback (most recent call last)",
      "\u001b[36mFile \u001b[39m\u001b[32mc:\\Users\\LAPTOP\\AppData\\Local\\Programs\\Python\\Python311\\Lib\\shutil.py:853\u001b[39m, in \u001b[36mmove\u001b[39m\u001b[34m(src, dst, copy_function)\u001b[39m\n\u001b[32m    852\u001b[39m \u001b[38;5;28;01mtry\u001b[39;00m:\n\u001b[32m--> \u001b[39m\u001b[32m853\u001b[39m     \u001b[43mos\u001b[49m\u001b[43m.\u001b[49m\u001b[43mrename\u001b[49m\u001b[43m(\u001b[49m\u001b[43msrc\u001b[49m\u001b[43m,\u001b[49m\u001b[43m \u001b[49m\u001b[43mreal_dst\u001b[49m\u001b[43m)\u001b[49m\n\u001b[32m    854\u001b[39m \u001b[38;5;28;01mexcept\u001b[39;00m \u001b[38;5;167;01mOSError\u001b[39;00m:\n",
      "\u001b[31mFileExistsError\u001b[39m: [WinError 183] Cannot create a file when that file already exists: 'kaggle.json' -> 'C:\\\\Users\\\\LAPTOP/.kaggle/kaggle.json'",
      "\nDuring handling of the above exception, another exception occurred:\n",
      "\u001b[31mPermissionError\u001b[39m                           Traceback (most recent call last)",
      "\u001b[36mCell\u001b[39m\u001b[36m \u001b[39m\u001b[32mIn[4]\u001b[39m\u001b[32m, line 8\u001b[39m\n\u001b[32m      5\u001b[39m os.makedirs(os.path.expanduser(\u001b[33m\"\u001b[39m\u001b[33m~/.kaggle\u001b[39m\u001b[33m\"\u001b[39m), exist_ok=\u001b[38;5;28;01mTrue\u001b[39;00m)\n\u001b[32m      7\u001b[39m \u001b[38;5;66;03m# Move kaggle.json to the correct location\u001b[39;00m\n\u001b[32m----> \u001b[39m\u001b[32m8\u001b[39m \u001b[43mshutil\u001b[49m\u001b[43m.\u001b[49m\u001b[43mmove\u001b[49m\u001b[43m(\u001b[49m\u001b[33;43m\"\u001b[39;49m\u001b[33;43mkaggle.json\u001b[39;49m\u001b[33;43m\"\u001b[39;49m\u001b[43m,\u001b[49m\u001b[43m \u001b[49m\u001b[43mos\u001b[49m\u001b[43m.\u001b[49m\u001b[43mpath\u001b[49m\u001b[43m.\u001b[49m\u001b[43mexpanduser\u001b[49m\u001b[43m(\u001b[49m\u001b[33;43m\"\u001b[39;49m\u001b[33;43m~/.kaggle/kaggle.json\u001b[39;49m\u001b[33;43m\"\u001b[39;49m\u001b[43m)\u001b[49m\u001b[43m)\u001b[49m\n\u001b[32m     10\u001b[39m \u001b[38;5;66;03m# Change file permissions to avoid errors\u001b[39;00m\n\u001b[32m     11\u001b[39m os.chmod(os.path.expanduser(\u001b[33m\"\u001b[39m\u001b[33m~/.kaggle/kaggle.json\u001b[39m\u001b[33m\"\u001b[39m), \u001b[32m600\u001b[39m)\n",
      "\u001b[36mFile \u001b[39m\u001b[32mc:\\Users\\LAPTOP\\AppData\\Local\\Programs\\Python\\Python311\\Lib\\shutil.py:873\u001b[39m, in \u001b[36mmove\u001b[39m\u001b[34m(src, dst, copy_function)\u001b[39m\n\u001b[32m    871\u001b[39m         rmtree(src)\n\u001b[32m    872\u001b[39m     \u001b[38;5;28;01melse\u001b[39;00m:\n\u001b[32m--> \u001b[39m\u001b[32m873\u001b[39m         \u001b[43mcopy_function\u001b[49m\u001b[43m(\u001b[49m\u001b[43msrc\u001b[49m\u001b[43m,\u001b[49m\u001b[43m \u001b[49m\u001b[43mreal_dst\u001b[49m\u001b[43m)\u001b[49m\n\u001b[32m    874\u001b[39m         os.unlink(src)\n\u001b[32m    875\u001b[39m \u001b[38;5;28;01mreturn\u001b[39;00m real_dst\n",
      "\u001b[36mFile \u001b[39m\u001b[32mc:\\Users\\LAPTOP\\AppData\\Local\\Programs\\Python\\Python311\\Lib\\shutil.py:448\u001b[39m, in \u001b[36mcopy2\u001b[39m\u001b[34m(src, dst, follow_symlinks)\u001b[39m\n\u001b[32m    446\u001b[39m \u001b[38;5;28;01mif\u001b[39;00m os.path.isdir(dst):\n\u001b[32m    447\u001b[39m     dst = os.path.join(dst, os.path.basename(src))\n\u001b[32m--> \u001b[39m\u001b[32m448\u001b[39m \u001b[43mcopyfile\u001b[49m\u001b[43m(\u001b[49m\u001b[43msrc\u001b[49m\u001b[43m,\u001b[49m\u001b[43m \u001b[49m\u001b[43mdst\u001b[49m\u001b[43m,\u001b[49m\u001b[43m \u001b[49m\u001b[43mfollow_symlinks\u001b[49m\u001b[43m=\u001b[49m\u001b[43mfollow_symlinks\u001b[49m\u001b[43m)\u001b[49m\n\u001b[32m    449\u001b[39m copystat(src, dst, follow_symlinks=follow_symlinks)\n\u001b[32m    450\u001b[39m \u001b[38;5;28;01mreturn\u001b[39;00m dst\n",
      "\u001b[36mFile \u001b[39m\u001b[32mc:\\Users\\LAPTOP\\AppData\\Local\\Programs\\Python\\Python311\\Lib\\shutil.py:258\u001b[39m, in \u001b[36mcopyfile\u001b[39m\u001b[34m(src, dst, follow_symlinks)\u001b[39m\n\u001b[32m    256\u001b[39m \u001b[38;5;28;01mwith\u001b[39;00m \u001b[38;5;28mopen\u001b[39m(src, \u001b[33m'\u001b[39m\u001b[33mrb\u001b[39m\u001b[33m'\u001b[39m) \u001b[38;5;28;01mas\u001b[39;00m fsrc:\n\u001b[32m    257\u001b[39m     \u001b[38;5;28;01mtry\u001b[39;00m:\n\u001b[32m--> \u001b[39m\u001b[32m258\u001b[39m         \u001b[38;5;28;01mwith\u001b[39;00m \u001b[38;5;28;43mopen\u001b[39;49m\u001b[43m(\u001b[49m\u001b[43mdst\u001b[49m\u001b[43m,\u001b[49m\u001b[43m \u001b[49m\u001b[33;43m'\u001b[39;49m\u001b[33;43mwb\u001b[39;49m\u001b[33;43m'\u001b[39;49m\u001b[43m)\u001b[49m \u001b[38;5;28;01mas\u001b[39;00m fdst:\n\u001b[32m    259\u001b[39m             \u001b[38;5;66;03m# macOS\u001b[39;00m\n\u001b[32m    260\u001b[39m             \u001b[38;5;28;01mif\u001b[39;00m _HAS_FCOPYFILE:\n\u001b[32m    261\u001b[39m                 \u001b[38;5;28;01mtry\u001b[39;00m:\n",
      "\u001b[31mPermissionError\u001b[39m: [Errno 13] Permission denied: 'C:\\\\Users\\\\LAPTOP/.kaggle/kaggle.json'"
     ]
    }
   ],
   "source": [
    "import os\n",
    "import shutil\n",
    "\n",
    "# Ensure ~/.kaggle directory exists\n",
    "os.makedirs(os.path.expanduser(\"~/.kaggle\"), exist_ok=True)\n",
    "\n",
    "# Move kaggle.json to the correct location\n",
    "shutil.move(\"kaggle.json\", os.path.expanduser(\"~/.kaggle/kaggle.json\"))\n",
    "\n",
    "# Change file permissions to avoid errors\n",
    "os.chmod(os.path.expanduser(\"~/.kaggle/kaggle.json\"), 600)\n"
   ]
  },
  {
   "cell_type": "code",
   "execution_count": 5,
   "id": "c1be2db9",
   "metadata": {},
   "outputs": [
    {
     "name": "stdout",
     "output_type": "stream",
     "text": [
      "Dataset URL: https://www.kaggle.com/datasets/purusinghvi/email-spam-classification-dataset\n",
      "License(s): MIT\n"
     ]
    }
   ],
   "source": [
    "!kaggle datasets download -d purusinghvi/email-spam-classification-dataset"
   ]
  },
  {
   "cell_type": "code",
   "execution_count": 6,
   "id": "7737ece1",
   "metadata": {},
   "outputs": [
    {
     "name": "stdout",
     "output_type": "stream",
     "text": [
      "['2025 fresher hiring_Student brochure.pdf', '2560x1440-500871-wallpaper-computer.jpg', '2560x1440-521782-hd-nature-wallpaper.jpg', '3126F897-D508-4C0B-ADD2-A9FAD6A39694', '3rd Sem backlog reciept.pdf', '4k wallpapers (1).jpeg', '4k wallpapers (2).jpeg', '4k wallpapers.jpeg', '66_updated_AI & ML LAB.pdf', '6th SEM Exam Fees.pdf', '6th SEM FEES RECIEPT.pdf', '7th Sem Enrollment form.pdf', '7th SEM EXAM FEES RECIEPT.pdf', '8K Spiderman live wallpaper.jpeg', '8th SEM EXAM FEES RECIEPT.pdf', 'Accessing pandas dataframe columns.docx', 'Admit card (1).pdf', 'Admit card (2).pdf', 'Admit card.pdf', 'AI & ML LAB Copy.docx', 'AI & ML LAB New.docx', 'AI & ML LAB_compressed.docx', 'AICTE Internship Offer Letter.pdf', 'alex-knight-wfwUpfVqrKU-unsplash.jpg', \"Alzheimer's Disease Detection Chatbot PPT.pptx\", \"Alzheimer's Disease Detection Chatbot.ipynb\", 'Alzheimers_Flowchart_Updated.png', 'An Introduction to Machine Learning doc.pptx', 'Anaconda3-2022.10-Windows-x86_64 (1).exe', 'Anaconda3-2022.10-Windows-x86_64.exe', 'Angle lines design.pptx', 'Anything LLM.ico', 'AnythingLLMDesktop.exe', 'anything_llm_W9N_icon.ico', 'archive (1).zip', 'archive (2).zip', 'archive (3).zip', 'archive.zip', 'ArcInstaller (1).exe', 'ArcInstaller.exe', 'Ayanokoji meme.png', 'BCT Project Report.docx', 'BingWallpaper (1).exe', 'BingWallpaper.exe', 'BlueJ-windows-510.msi', 'BlueJ-windows-521.msi', 'BTech 8th Sem Syllabus.pdf', 'BTech Syllabus.pdf', 'chess.png', 'Collaz Conjecture Report.docx', 'Computer Science and Applications_English Only.pdf', 'Coursera Kouhik (1).pdf', 'Coursera Kouhik.pdf', 'Coursera Unit Testing in Java.pdf', 'CS24S66503003_AdmitCard.pdf', 'CS24S66503003_ScoreCard (1).pdf', 'CS24S66503003_ScoreCard.pdf', 'CS25S16503030_AdmitCard.pdf', 'Cursor Setup 0.44.11 - Build 250103fqxdt5u9z-x64.exe', 'DA 2024 Question Paper.pdf', 'DA24S16503010_AdmitCard.pdf', 'DA25S56503019_AdmitCard.pdf', 'data_test_c.csv', 'DB.Browser.for.SQLite-3.12.2-win64.msi', 'denys-nevozhai-D68ADLeMh5Q-unsplash.jpg', 'desktop.ini', 'DT20256688357_Application (1).pdf', 'DT20256688357_Application (2).pdf', 'DT20256688357_Application.pdf', 'Email Spam Detection.ipynb', 'email-spam-classification-dataset.zip', 'FigmaSetup (1).exe', 'FigmaSetup.exe', 'File-Encryption-System (1).pptx', 'File-Encryption-System (2).pptx', 'File-Encryption-System Gamma.pptx', 'File-Encryption-System.pptx', 'file.pdf', 'GATE 2024 CS Response.pdf', 'GATE 2024 DA Response.pdf', 'GATE CS Answer Key 2025.pdf', 'GATE CS My Response 2025.pdf', 'GATE CS Question Paper 2025.pdf', 'GATE CS Scorecard 2024.pdf', 'GATE DA Answer Key 2025.pdf', 'GATE DA My Response 2025.pdf', 'GATE DA Question Paper 2025.pdf', 'GATE-2025-Logo.ico', 'Gemini_Generated_Image_fbjwbhfbjwbhfbjw.jpeg', 'Geometric student report.docx', 'Git-2.39.2-64-bit.exe', 'GitHubDesktopSetup-x64.exe', 'google-deepmind-6R1rq5yTl7g-unsplash.jpg', 'google-deepmind-rBdD-sE_Dnc-unsplash.jpg', 'icons8-java-48.png', 'ICSE-2023-QPs.zip', 'ICSE_2024_QP.zip', 'ilovepdf_pages-to-jpg.zip', 'Install-GooglePlayGames-Beta.exe', 'Integrated Environmental Management (1).pdf', 'Integrated Environmental Management.pdf', 'Internship JD Internzvalley.pdf', 'Java Icon Folder.ico', 'JavaCodingPack-0.4.1.exe', 'JavaCodingPack-0.4.2.exe', 'jdk-19_linux-aarch64_bin.tar.gz', 'jezael-melgoza-2FiXtdnVhjQ-unsplash.jpg', 'JIS_University.svg', 'kaggle.json', 'koukichi-takahashi-fZdX9BW8WDs-unsplash.jpg', 'Lab safety.pptx', 'Machine Learning Sample Project Report (1) (1).docx', 'Machine Learning Sample Project Report (1).docx', 'Machine Learning Sample Project Report.docx', 'mingw-18.0-without-git.exe', 'mingw-get-setup (1).exe', 'mingw-get-setup.exe', 'MIPS At a glance.pdf', 'ML Lab Copy 1.pdf', 'ML Lab Copy 2.pdf', 'ML Lab Copy 3 Edited.pdf', 'ML Lab Copy 3-images-0.jpg', 'ML Lab Copy 3-images-1.jpg', 'ML Lab Copy 3-images-2.jpg', 'ML Lab Copy 3-images-3.jpg', 'ML Lab Copy 3-images-4.jpg', 'ML Lab Copy 3-images-5.jpg', 'ML Lab Copy 4 Edited.pdf', 'ML Lab Copy 4-7 Editable.pdf', 'ML Lab Copy 4-images-0.jpg', 'ML Lab Copy 4-images-1.jpg', 'ML Lab Copy 4-images-2.jpg', 'ML Lab Copy 4-images-3.jpg', 'ML Lab Copy 5-images-0.jpg', 'ML Lab Copy 5-images-1.jpg', 'ML Lab Copy 5-images-2.jpg', 'ML Lab Copy 5-images-3.jpg', 'ML Lab Copy 5-images-4.jpg', 'ML Lab Copy 5-images-5.jpg', 'ML Lab Copy 6-images-0.jpg', 'ML Lab Copy 6-images-1.jpg', 'ML Lab Copy 6-images-2.jpg', 'ML Lab Copy 6-images-3.jpg', 'ML Lab Copy 6-images-4.jpg', 'ML Lab Copy 6-images-5.jpg', 'ML Lab Copy 6-images-6.jpg', 'ML Lab Copy 6-images-7.jpg', 'ML Lab Copy 6-images-8.jpg', 'ML Lab Copy 6-images-9.jpg', 'ML Lab Copy 7-images-0.jpg', 'ML Lab Copy 7-images-1.jpg', 'ML Lab Copy 7-images-2.jpg', 'ML Lab Copy 7-images-3.jpg', 'ML Lab Copy 7-images-4.jpg', 'ML Lab Copy 7-images-5.jpg', 'ML Lab Editable.pdf', 'ms-python.debugpy-2024.10.0@win32-x64.vsix', 'ms-toolsai.jupyter-2024.7.0@win32-x64.vsix', 'mysql-installer-community-8.0.33.0.msi', 'mysql-installer-web-community-8.0.33.0.msi', 'Naming convention (1).pdf', 'node-v18.14.2-x64.msi', 'NUMPY1.pptx', 'Offer Letter_Niladri Das.pdf', 'OpenJDK17U-jdk_x64_windows_hotspot_17.0.6_10.msi', 'Organic presentation (1).pptx', 'Organic presentation.pptx', 'photo mode.jpeg', 'Presentation @Artech!.ics', 'python-3.11.2-amd64 (1).exe', 'python-3.11.2-amd64 (2).exe', 'python-3.11.2-amd64.exe', 'QtSpim_9.1.23_Windows.msi', 'R21_CSE_Curriculum___Syllabus__AIML.pdf', 'R225Z80ApplicationForm.pdf', 'Results_1.zip', 'Resume for IBM.docx', 'resume_cv.pdf', 'RPPViewResultStudent001 (1).pdf', 'RPPViewResultStudent001 (2).pdf', 'RPPViewResultStudent001 (3).pdf', 'RPPViewResultStudent001.pdf', 'Signature.jpeg', 'smallpdf-convert-20241110-234934.zip', 'Student Feedback Certificate SEM 7.pdf', 'sublime_text_build_4143_x64_setup (1).exe', 'sublime_text_build_4143_x64_setup.exe', 'T205U90ApplicationForm.pdf', 'UCG-NET-250510637655-1746545463.pdf', 'UGC NET June 2025 Information Bulletin.pdf', 'Updated Resume.pdf', 'VajraIndTech (1).pdf', 'VajraIndTech.pdf', 'VSCodeUserSetup-x64-1.75.1 (1).exe', 'VSCodeUserSetup-x64-1.75.1.exe', 'VSCodeUserSetup-x64-1.77.3.exe', 'wallpaperbetter.com_1920x1080.jpg', 'xampp-windows-x64-8.0.28-0-VS16-installer.exe', 'ZoomInstallerFull.exe']\n"
     ]
    }
   ],
   "source": [
    "import os\n",
    "print(os.listdir())  # Lists all files in the current directory\n"
   ]
  },
  {
   "cell_type": "code",
   "execution_count": 7,
   "id": "f8449d76",
   "metadata": {},
   "outputs": [],
   "source": [
    "import zipfile\n",
    "\n",
    "with zipfile.ZipFile(\"email-spam-classification-dataset.zip\", \"r\") as zip_ref:\n",
    "    zip_ref.extractall(\"data\")  # Extracts files into the \"data\" folder\n"
   ]
  },
  {
   "cell_type": "code",
   "execution_count": 8,
   "id": "76a65e6e",
   "metadata": {},
   "outputs": [
    {
     "name": "stdout",
     "output_type": "stream",
     "text": [
      "['combined_data.csv']\n"
     ]
    }
   ],
   "source": [
    "print(os.listdir(\"data\"))  # Lists extracted files\n"
   ]
  },
  {
   "cell_type": "code",
   "execution_count": 9,
   "id": "19b61583",
   "metadata": {},
   "outputs": [
    {
     "name": "stdout",
     "output_type": "stream",
     "text": [
      "   label                                               text\n",
      "0      1  ounce feather bowl hummingbird opec moment ala...\n",
      "1      1  wulvob get your medircations online qnb ikud v...\n",
      "2      0   computer connection from cnn com wednesday es...\n",
      "3      1  university degree obtain a prosperous future m...\n",
      "4      0  thanks for all your answers guys i know i shou...\n"
     ]
    }
   ],
   "source": [
    "import pandas as pd\n",
    "data = pd.read_csv(\"data/combined_data.csv\")  # Adjust filename as needed\n",
    "print(data.head())"
   ]
  },
  {
   "cell_type": "code",
   "execution_count": 10,
   "id": "42d97a80",
   "metadata": {},
   "outputs": [
    {
     "name": "stdout",
     "output_type": "stream",
     "text": [
      "Index(['label', 'text'], dtype='object')\n"
     ]
    }
   ],
   "source": [
    "print(data.columns)"
   ]
  },
  {
   "cell_type": "code",
   "execution_count": 11,
   "id": "d15501e9",
   "metadata": {},
   "outputs": [
    {
     "name": "stdout",
     "output_type": "stream",
     "text": [
      "   label                                               text\n",
      "0      1  ounce feather bowl hummingbird opec moment ala...\n",
      "1      1  wulvob get your medircations online qnb ikud v...\n",
      "2      0   computer connection from cnn com wednesday es...\n",
      "3      1  university degree obtain a prosperous future m...\n",
      "4      0  thanks for all your answers guys i know i shou... \n",
      "\n",
      "\n",
      "Index(['label', 'text'], dtype='object') \n",
      "\n",
      "\n",
      "<class 'pandas.core.frame.DataFrame'>\n",
      "RangeIndex: 83448 entries, 0 to 83447\n",
      "Data columns (total 2 columns):\n",
      " #   Column  Non-Null Count  Dtype \n",
      "---  ------  --------------  ----- \n",
      " 0   label   83448 non-null  int64 \n",
      " 1   text    83448 non-null  object\n",
      "dtypes: int64(1), object(1)\n",
      "memory usage: 1.3+ MB\n",
      "None\n"
     ]
    }
   ],
   "source": [
    "print(data.head(),\"\\n\\n\")  # Display first few rows\n",
    "print(data.columns,\"\\n\\n\")  # Show column names\n",
    "print(data.info())  # Check data types"
   ]
  },
  {
   "cell_type": "code",
   "execution_count": 12,
   "id": "c4316b0e-58d6-4813-b0a7-19170e27552c",
   "metadata": {},
   "outputs": [
    {
     "name": "stdout",
     "output_type": "stream",
     "text": [
      "label    0\n",
      "text     0\n",
      "dtype: int64\n"
     ]
    }
   ],
   "source": [
    "print(data.isnull().sum())  # Shows the count of missing values per column"
   ]
  },
  {
   "cell_type": "code",
   "execution_count": 13,
   "id": "39b0dd8a-007e-4b70-a5b2-99b7b2e8cb6f",
   "metadata": {},
   "outputs": [
    {
     "name": "stdout",
     "output_type": "stream",
     "text": [
      "Empty DataFrame\n",
      "Columns: [label, text]\n",
      "Index: []\n"
     ]
    }
   ],
   "source": [
    "print(data[data.isnull().any(axis=1)])  # Displays rows with at least one missing value"
   ]
  },
  {
   "cell_type": "code",
   "execution_count": 14,
   "id": "6f486adf-1a6d-4c24-a25e-1ef88fe60ecc",
   "metadata": {},
   "outputs": [
    {
     "name": "stdout",
     "output_type": "stream",
     "text": [
      "                                                text  \\\n",
      "0  ounce feather bowl hummingbird opec moment ala...   \n",
      "1  wulvob get your medircations online qnb ikud v...   \n",
      "2   computer connection from cnn com wednesday es...   \n",
      "3  university degree obtain a prosperous future m...   \n",
      "4  thanks for all your answers guys i know i shou...   \n",
      "\n",
      "                                        cleaned_text  \n",
      "0  ounce feather bowl hummingbird opec moment ala...  \n",
      "1  wulvob get your medircations online qnb ikud v...  \n",
      "2   computer connection from cnn com wednesday es...  \n",
      "3  university degree obtain a prosperous future m...  \n",
      "4  thanks for all your answers guys i know i shou...  \n"
     ]
    }
   ],
   "source": [
    "import re\n",
    "\n",
    "def clean_text(text):\n",
    "    text = text.lower()  # Convert to lowercase\n",
    "    text = re.sub(r'\\W', ' ', text)  # Remove special characters\n",
    "    text = re.sub(r'\\s+', ' ', text)  # Remove extra spaces\n",
    "    return text\n",
    "\n",
    "# Apply cleaning function to dataset\n",
    "data['cleaned_text'] = data['text'].apply(clean_text)\n",
    "\n",
    "# Check the first few cleaned entries\n",
    "print(data[['text', 'cleaned_text']].head())"
   ]
  },
  {
   "cell_type": "code",
   "execution_count": 15,
   "id": "342667b7-3b90-4084-9a60-39ad0e9cd8ca",
   "metadata": {},
   "outputs": [],
   "source": [
    "from sklearn.feature_extraction.text import TfidfVectorizer\n",
    "\n",
    "# Initialize TF-IDF vectorizer\n",
    "vectorizer = TfidfVectorizer()\n",
    "\n",
    "# Convert text into numerical features\n",
    "X = vectorizer.fit_transform(data['cleaned_text'])  # Features\n",
    "y = data['label']  # Target labels (spam or ham)"
   ]
  },
  {
   "cell_type": "code",
   "execution_count": 16,
   "id": "7aea42b3-d744-462c-a110-9c4e5fd3d5f2",
   "metadata": {},
   "outputs": [],
   "source": [
    "from sklearn.model_selection import train_test_split\n",
    "\n",
    "X_train, X_test, y_train, y_test = train_test_split(X, y, test_size=0.2, random_state=42)"
   ]
  },
  {
   "cell_type": "code",
   "execution_count": 17,
   "id": "72f00f43-c9a2-4343-a274-a631af652ab5",
   "metadata": {},
   "outputs": [],
   "source": [
    "from sklearn.naive_bayes import MultinomialNB\n",
    "from sklearn.metrics import accuracy_score"
   ]
  },
  {
   "cell_type": "code",
   "execution_count": 18,
   "id": "c25ef040-32b0-4308-9c36-8711a14e3031",
   "metadata": {},
   "outputs": [
    {
     "data": {
      "text/html": [
       "<style>#sk-container-id-1 {\n",
       "  /* Definition of color scheme common for light and dark mode */\n",
       "  --sklearn-color-text: black;\n",
       "  --sklearn-color-line: gray;\n",
       "  /* Definition of color scheme for unfitted estimators */\n",
       "  --sklearn-color-unfitted-level-0: #fff5e6;\n",
       "  --sklearn-color-unfitted-level-1: #f6e4d2;\n",
       "  --sklearn-color-unfitted-level-2: #ffe0b3;\n",
       "  --sklearn-color-unfitted-level-3: chocolate;\n",
       "  /* Definition of color scheme for fitted estimators */\n",
       "  --sklearn-color-fitted-level-0: #f0f8ff;\n",
       "  --sklearn-color-fitted-level-1: #d4ebff;\n",
       "  --sklearn-color-fitted-level-2: #b3dbfd;\n",
       "  --sklearn-color-fitted-level-3: cornflowerblue;\n",
       "\n",
       "  /* Specific color for light theme */\n",
       "  --sklearn-color-text-on-default-background: var(--sg-text-color, var(--theme-code-foreground, var(--jp-content-font-color1, black)));\n",
       "  --sklearn-color-background: var(--sg-background-color, var(--theme-background, var(--jp-layout-color0, white)));\n",
       "  --sklearn-color-border-box: var(--sg-text-color, var(--theme-code-foreground, var(--jp-content-font-color1, black)));\n",
       "  --sklearn-color-icon: #696969;\n",
       "\n",
       "  @media (prefers-color-scheme: dark) {\n",
       "    /* Redefinition of color scheme for dark theme */\n",
       "    --sklearn-color-text-on-default-background: var(--sg-text-color, var(--theme-code-foreground, var(--jp-content-font-color1, white)));\n",
       "    --sklearn-color-background: var(--sg-background-color, var(--theme-background, var(--jp-layout-color0, #111)));\n",
       "    --sklearn-color-border-box: var(--sg-text-color, var(--theme-code-foreground, var(--jp-content-font-color1, white)));\n",
       "    --sklearn-color-icon: #878787;\n",
       "  }\n",
       "}\n",
       "\n",
       "#sk-container-id-1 {\n",
       "  color: var(--sklearn-color-text);\n",
       "}\n",
       "\n",
       "#sk-container-id-1 pre {\n",
       "  padding: 0;\n",
       "}\n",
       "\n",
       "#sk-container-id-1 input.sk-hidden--visually {\n",
       "  border: 0;\n",
       "  clip: rect(1px 1px 1px 1px);\n",
       "  clip: rect(1px, 1px, 1px, 1px);\n",
       "  height: 1px;\n",
       "  margin: -1px;\n",
       "  overflow: hidden;\n",
       "  padding: 0;\n",
       "  position: absolute;\n",
       "  width: 1px;\n",
       "}\n",
       "\n",
       "#sk-container-id-1 div.sk-dashed-wrapped {\n",
       "  border: 1px dashed var(--sklearn-color-line);\n",
       "  margin: 0 0.4em 0.5em 0.4em;\n",
       "  box-sizing: border-box;\n",
       "  padding-bottom: 0.4em;\n",
       "  background-color: var(--sklearn-color-background);\n",
       "}\n",
       "\n",
       "#sk-container-id-1 div.sk-container {\n",
       "  /* jupyter's `normalize.less` sets `[hidden] { display: none; }`\n",
       "     but bootstrap.min.css set `[hidden] { display: none !important; }`\n",
       "     so we also need the `!important` here to be able to override the\n",
       "     default hidden behavior on the sphinx rendered scikit-learn.org.\n",
       "     See: https://github.com/scikit-learn/scikit-learn/issues/21755 */\n",
       "  display: inline-block !important;\n",
       "  position: relative;\n",
       "}\n",
       "\n",
       "#sk-container-id-1 div.sk-text-repr-fallback {\n",
       "  display: none;\n",
       "}\n",
       "\n",
       "div.sk-parallel-item,\n",
       "div.sk-serial,\n",
       "div.sk-item {\n",
       "  /* draw centered vertical line to link estimators */\n",
       "  background-image: linear-gradient(var(--sklearn-color-text-on-default-background), var(--sklearn-color-text-on-default-background));\n",
       "  background-size: 2px 100%;\n",
       "  background-repeat: no-repeat;\n",
       "  background-position: center center;\n",
       "}\n",
       "\n",
       "/* Parallel-specific style estimator block */\n",
       "\n",
       "#sk-container-id-1 div.sk-parallel-item::after {\n",
       "  content: \"\";\n",
       "  width: 100%;\n",
       "  border-bottom: 2px solid var(--sklearn-color-text-on-default-background);\n",
       "  flex-grow: 1;\n",
       "}\n",
       "\n",
       "#sk-container-id-1 div.sk-parallel {\n",
       "  display: flex;\n",
       "  align-items: stretch;\n",
       "  justify-content: center;\n",
       "  background-color: var(--sklearn-color-background);\n",
       "  position: relative;\n",
       "}\n",
       "\n",
       "#sk-container-id-1 div.sk-parallel-item {\n",
       "  display: flex;\n",
       "  flex-direction: column;\n",
       "}\n",
       "\n",
       "#sk-container-id-1 div.sk-parallel-item:first-child::after {\n",
       "  align-self: flex-end;\n",
       "  width: 50%;\n",
       "}\n",
       "\n",
       "#sk-container-id-1 div.sk-parallel-item:last-child::after {\n",
       "  align-self: flex-start;\n",
       "  width: 50%;\n",
       "}\n",
       "\n",
       "#sk-container-id-1 div.sk-parallel-item:only-child::after {\n",
       "  width: 0;\n",
       "}\n",
       "\n",
       "/* Serial-specific style estimator block */\n",
       "\n",
       "#sk-container-id-1 div.sk-serial {\n",
       "  display: flex;\n",
       "  flex-direction: column;\n",
       "  align-items: center;\n",
       "  background-color: var(--sklearn-color-background);\n",
       "  padding-right: 1em;\n",
       "  padding-left: 1em;\n",
       "}\n",
       "\n",
       "\n",
       "/* Toggleable style: style used for estimator/Pipeline/ColumnTransformer box that is\n",
       "clickable and can be expanded/collapsed.\n",
       "- Pipeline and ColumnTransformer use this feature and define the default style\n",
       "- Estimators will overwrite some part of the style using the `sk-estimator` class\n",
       "*/\n",
       "\n",
       "/* Pipeline and ColumnTransformer style (default) */\n",
       "\n",
       "#sk-container-id-1 div.sk-toggleable {\n",
       "  /* Default theme specific background. It is overwritten whether we have a\n",
       "  specific estimator or a Pipeline/ColumnTransformer */\n",
       "  background-color: var(--sklearn-color-background);\n",
       "}\n",
       "\n",
       "/* Toggleable label */\n",
       "#sk-container-id-1 label.sk-toggleable__label {\n",
       "  cursor: pointer;\n",
       "  display: block;\n",
       "  width: 100%;\n",
       "  margin-bottom: 0;\n",
       "  padding: 0.5em;\n",
       "  box-sizing: border-box;\n",
       "  text-align: center;\n",
       "}\n",
       "\n",
       "#sk-container-id-1 label.sk-toggleable__label-arrow:before {\n",
       "  /* Arrow on the left of the label */\n",
       "  content: \"▸\";\n",
       "  float: left;\n",
       "  margin-right: 0.25em;\n",
       "  color: var(--sklearn-color-icon);\n",
       "}\n",
       "\n",
       "#sk-container-id-1 label.sk-toggleable__label-arrow:hover:before {\n",
       "  color: var(--sklearn-color-text);\n",
       "}\n",
       "\n",
       "/* Toggleable content - dropdown */\n",
       "\n",
       "#sk-container-id-1 div.sk-toggleable__content {\n",
       "  max-height: 0;\n",
       "  max-width: 0;\n",
       "  overflow: hidden;\n",
       "  text-align: left;\n",
       "  /* unfitted */\n",
       "  background-color: var(--sklearn-color-unfitted-level-0);\n",
       "}\n",
       "\n",
       "#sk-container-id-1 div.sk-toggleable__content.fitted {\n",
       "  /* fitted */\n",
       "  background-color: var(--sklearn-color-fitted-level-0);\n",
       "}\n",
       "\n",
       "#sk-container-id-1 div.sk-toggleable__content pre {\n",
       "  margin: 0.2em;\n",
       "  border-radius: 0.25em;\n",
       "  color: var(--sklearn-color-text);\n",
       "  /* unfitted */\n",
       "  background-color: var(--sklearn-color-unfitted-level-0);\n",
       "}\n",
       "\n",
       "#sk-container-id-1 div.sk-toggleable__content.fitted pre {\n",
       "  /* unfitted */\n",
       "  background-color: var(--sklearn-color-fitted-level-0);\n",
       "}\n",
       "\n",
       "#sk-container-id-1 input.sk-toggleable__control:checked~div.sk-toggleable__content {\n",
       "  /* Expand drop-down */\n",
       "  max-height: 200px;\n",
       "  max-width: 100%;\n",
       "  overflow: auto;\n",
       "}\n",
       "\n",
       "#sk-container-id-1 input.sk-toggleable__control:checked~label.sk-toggleable__label-arrow:before {\n",
       "  content: \"▾\";\n",
       "}\n",
       "\n",
       "/* Pipeline/ColumnTransformer-specific style */\n",
       "\n",
       "#sk-container-id-1 div.sk-label input.sk-toggleable__control:checked~label.sk-toggleable__label {\n",
       "  color: var(--sklearn-color-text);\n",
       "  background-color: var(--sklearn-color-unfitted-level-2);\n",
       "}\n",
       "\n",
       "#sk-container-id-1 div.sk-label.fitted input.sk-toggleable__control:checked~label.sk-toggleable__label {\n",
       "  background-color: var(--sklearn-color-fitted-level-2);\n",
       "}\n",
       "\n",
       "/* Estimator-specific style */\n",
       "\n",
       "/* Colorize estimator box */\n",
       "#sk-container-id-1 div.sk-estimator input.sk-toggleable__control:checked~label.sk-toggleable__label {\n",
       "  /* unfitted */\n",
       "  background-color: var(--sklearn-color-unfitted-level-2);\n",
       "}\n",
       "\n",
       "#sk-container-id-1 div.sk-estimator.fitted input.sk-toggleable__control:checked~label.sk-toggleable__label {\n",
       "  /* fitted */\n",
       "  background-color: var(--sklearn-color-fitted-level-2);\n",
       "}\n",
       "\n",
       "#sk-container-id-1 div.sk-label label.sk-toggleable__label,\n",
       "#sk-container-id-1 div.sk-label label {\n",
       "  /* The background is the default theme color */\n",
       "  color: var(--sklearn-color-text-on-default-background);\n",
       "}\n",
       "\n",
       "/* On hover, darken the color of the background */\n",
       "#sk-container-id-1 div.sk-label:hover label.sk-toggleable__label {\n",
       "  color: var(--sklearn-color-text);\n",
       "  background-color: var(--sklearn-color-unfitted-level-2);\n",
       "}\n",
       "\n",
       "/* Label box, darken color on hover, fitted */\n",
       "#sk-container-id-1 div.sk-label.fitted:hover label.sk-toggleable__label.fitted {\n",
       "  color: var(--sklearn-color-text);\n",
       "  background-color: var(--sklearn-color-fitted-level-2);\n",
       "}\n",
       "\n",
       "/* Estimator label */\n",
       "\n",
       "#sk-container-id-1 div.sk-label label {\n",
       "  font-family: monospace;\n",
       "  font-weight: bold;\n",
       "  display: inline-block;\n",
       "  line-height: 1.2em;\n",
       "}\n",
       "\n",
       "#sk-container-id-1 div.sk-label-container {\n",
       "  text-align: center;\n",
       "}\n",
       "\n",
       "/* Estimator-specific */\n",
       "#sk-container-id-1 div.sk-estimator {\n",
       "  font-family: monospace;\n",
       "  border: 1px dotted var(--sklearn-color-border-box);\n",
       "  border-radius: 0.25em;\n",
       "  box-sizing: border-box;\n",
       "  margin-bottom: 0.5em;\n",
       "  /* unfitted */\n",
       "  background-color: var(--sklearn-color-unfitted-level-0);\n",
       "}\n",
       "\n",
       "#sk-container-id-1 div.sk-estimator.fitted {\n",
       "  /* fitted */\n",
       "  background-color: var(--sklearn-color-fitted-level-0);\n",
       "}\n",
       "\n",
       "/* on hover */\n",
       "#sk-container-id-1 div.sk-estimator:hover {\n",
       "  /* unfitted */\n",
       "  background-color: var(--sklearn-color-unfitted-level-2);\n",
       "}\n",
       "\n",
       "#sk-container-id-1 div.sk-estimator.fitted:hover {\n",
       "  /* fitted */\n",
       "  background-color: var(--sklearn-color-fitted-level-2);\n",
       "}\n",
       "\n",
       "/* Specification for estimator info (e.g. \"i\" and \"?\") */\n",
       "\n",
       "/* Common style for \"i\" and \"?\" */\n",
       "\n",
       ".sk-estimator-doc-link,\n",
       "a:link.sk-estimator-doc-link,\n",
       "a:visited.sk-estimator-doc-link {\n",
       "  float: right;\n",
       "  font-size: smaller;\n",
       "  line-height: 1em;\n",
       "  font-family: monospace;\n",
       "  background-color: var(--sklearn-color-background);\n",
       "  border-radius: 1em;\n",
       "  height: 1em;\n",
       "  width: 1em;\n",
       "  text-decoration: none !important;\n",
       "  margin-left: 1ex;\n",
       "  /* unfitted */\n",
       "  border: var(--sklearn-color-unfitted-level-1) 1pt solid;\n",
       "  color: var(--sklearn-color-unfitted-level-1);\n",
       "}\n",
       "\n",
       ".sk-estimator-doc-link.fitted,\n",
       "a:link.sk-estimator-doc-link.fitted,\n",
       "a:visited.sk-estimator-doc-link.fitted {\n",
       "  /* fitted */\n",
       "  border: var(--sklearn-color-fitted-level-1) 1pt solid;\n",
       "  color: var(--sklearn-color-fitted-level-1);\n",
       "}\n",
       "\n",
       "/* On hover */\n",
       "div.sk-estimator:hover .sk-estimator-doc-link:hover,\n",
       ".sk-estimator-doc-link:hover,\n",
       "div.sk-label-container:hover .sk-estimator-doc-link:hover,\n",
       ".sk-estimator-doc-link:hover {\n",
       "  /* unfitted */\n",
       "  background-color: var(--sklearn-color-unfitted-level-3);\n",
       "  color: var(--sklearn-color-background);\n",
       "  text-decoration: none;\n",
       "}\n",
       "\n",
       "div.sk-estimator.fitted:hover .sk-estimator-doc-link.fitted:hover,\n",
       ".sk-estimator-doc-link.fitted:hover,\n",
       "div.sk-label-container:hover .sk-estimator-doc-link.fitted:hover,\n",
       ".sk-estimator-doc-link.fitted:hover {\n",
       "  /* fitted */\n",
       "  background-color: var(--sklearn-color-fitted-level-3);\n",
       "  color: var(--sklearn-color-background);\n",
       "  text-decoration: none;\n",
       "}\n",
       "\n",
       "/* Span, style for the box shown on hovering the info icon */\n",
       ".sk-estimator-doc-link span {\n",
       "  display: none;\n",
       "  z-index: 9999;\n",
       "  position: relative;\n",
       "  font-weight: normal;\n",
       "  right: .2ex;\n",
       "  padding: .5ex;\n",
       "  margin: .5ex;\n",
       "  width: min-content;\n",
       "  min-width: 20ex;\n",
       "  max-width: 50ex;\n",
       "  color: var(--sklearn-color-text);\n",
       "  box-shadow: 2pt 2pt 4pt #999;\n",
       "  /* unfitted */\n",
       "  background: var(--sklearn-color-unfitted-level-0);\n",
       "  border: .5pt solid var(--sklearn-color-unfitted-level-3);\n",
       "}\n",
       "\n",
       ".sk-estimator-doc-link.fitted span {\n",
       "  /* fitted */\n",
       "  background: var(--sklearn-color-fitted-level-0);\n",
       "  border: var(--sklearn-color-fitted-level-3);\n",
       "}\n",
       "\n",
       ".sk-estimator-doc-link:hover span {\n",
       "  display: block;\n",
       "}\n",
       "\n",
       "/* \"?\"-specific style due to the `<a>` HTML tag */\n",
       "\n",
       "#sk-container-id-1 a.estimator_doc_link {\n",
       "  float: right;\n",
       "  font-size: 1rem;\n",
       "  line-height: 1em;\n",
       "  font-family: monospace;\n",
       "  background-color: var(--sklearn-color-background);\n",
       "  border-radius: 1rem;\n",
       "  height: 1rem;\n",
       "  width: 1rem;\n",
       "  text-decoration: none;\n",
       "  /* unfitted */\n",
       "  color: var(--sklearn-color-unfitted-level-1);\n",
       "  border: var(--sklearn-color-unfitted-level-1) 1pt solid;\n",
       "}\n",
       "\n",
       "#sk-container-id-1 a.estimator_doc_link.fitted {\n",
       "  /* fitted */\n",
       "  border: var(--sklearn-color-fitted-level-1) 1pt solid;\n",
       "  color: var(--sklearn-color-fitted-level-1);\n",
       "}\n",
       "\n",
       "/* On hover */\n",
       "#sk-container-id-1 a.estimator_doc_link:hover {\n",
       "  /* unfitted */\n",
       "  background-color: var(--sklearn-color-unfitted-level-3);\n",
       "  color: var(--sklearn-color-background);\n",
       "  text-decoration: none;\n",
       "}\n",
       "\n",
       "#sk-container-id-1 a.estimator_doc_link.fitted:hover {\n",
       "  /* fitted */\n",
       "  background-color: var(--sklearn-color-fitted-level-3);\n",
       "}\n",
       "</style><div id=\"sk-container-id-1\" class=\"sk-top-container\"><div class=\"sk-text-repr-fallback\"><pre>MultinomialNB()</pre><b>In a Jupyter environment, please rerun this cell to show the HTML representation or trust the notebook. <br />On GitHub, the HTML representation is unable to render, please try loading this page with nbviewer.org.</b></div><div class=\"sk-container\" hidden><div class=\"sk-item\"><div class=\"sk-estimator fitted sk-toggleable\"><input class=\"sk-toggleable__control sk-hidden--visually\" id=\"sk-estimator-id-1\" type=\"checkbox\" checked><label for=\"sk-estimator-id-1\" class=\"sk-toggleable__label fitted sk-toggleable__label-arrow fitted\">&nbsp;&nbsp;MultinomialNB<a class=\"sk-estimator-doc-link fitted\" rel=\"noreferrer\" target=\"_blank\" href=\"https://scikit-learn.org/1.5/modules/generated/sklearn.naive_bayes.MultinomialNB.html\">?<span>Documentation for MultinomialNB</span></a><span class=\"sk-estimator-doc-link fitted\">i<span>Fitted</span></span></label><div class=\"sk-toggleable__content fitted\"><pre>MultinomialNB()</pre></div> </div></div></div></div>"
      ],
      "text/plain": [
       "MultinomialNB()"
      ]
     },
     "execution_count": 18,
     "metadata": {},
     "output_type": "execute_result"
    }
   ],
   "source": [
    "model = MultinomialNB()\n",
    "model.fit(X_train, y_train)  # Train the classifier"
   ]
  },
  {
   "cell_type": "code",
   "execution_count": 19,
   "id": "b823c9e2-1556-444f-9e3c-7c1f59b1f6ae",
   "metadata": {},
   "outputs": [],
   "source": [
    "predictions = model.predict(X_test)"
   ]
  },
  {
   "cell_type": "code",
   "execution_count": 20,
   "id": "eb5be4e8-e44e-4613-a245-25b04e73bc10",
   "metadata": {},
   "outputs": [
    {
     "name": "stdout",
     "output_type": "stream",
     "text": [
      "Accuracy: 0.9768723786698622\n"
     ]
    }
   ],
   "source": [
    "print(\"Accuracy:\", accuracy_score(y_test, predictions))"
   ]
  },
  {
   "cell_type": "code",
   "execution_count": 21,
   "id": "01f05750-9f1e-4493-8a8a-101b6c0a7bcb",
   "metadata": {},
   "outputs": [
    {
     "name": "stdout",
     "output_type": "stream",
     "text": [
      "              precision    recall  f1-score   support\n",
      "\n",
      "           0       0.96      0.99      0.98      7938\n",
      "           1       0.99      0.97      0.98      8752\n",
      "\n",
      "    accuracy                           0.98     16690\n",
      "   macro avg       0.98      0.98      0.98     16690\n",
      "weighted avg       0.98      0.98      0.98     16690\n",
      "\n"
     ]
    }
   ],
   "source": [
    "from sklearn.metrics import classification_report\n",
    "\n",
    "print(classification_report(y_test, predictions))"
   ]
  },
  {
   "cell_type": "code",
   "execution_count": 22,
   "id": "35ec75ac-768b-4005-8731-c59a2f20b411",
   "metadata": {},
   "outputs": [
    {
     "name": "stdout",
     "output_type": "stream",
     "text": [
      "[1 0 1 1]\n"
     ]
    }
   ],
   "source": [
    "new_emails = [\"Congratulations! You've won a free gift, claim now.\", \n",
    "              \"Hey, want to grab lunch tomorrow?\",\n",
    "              \"Limited-time offer! Buy now and get 50% off.\",\n",
    "              \"Hello! Purchase our courses for cheap!\"]\n",
    "\n",
    "new_vectorized = vectorizer.transform(new_emails)  # Convert emails to numerical format\n",
    "print(model.predict(new_vectorized))  # Outputs: 1 for spam, 0 for ham\n"
   ]
  },
  {
   "cell_type": "code",
   "execution_count": 23,
   "id": "57ab2982",
   "metadata": {},
   "outputs": [],
   "source": [
    "import pickle\n",
    "\n",
    "# Save the trained model\n",
    "with open(\"spam_classifier.pkl\", \"wb\") as f:\n",
    "    pickle.dump(model, f)\n",
    "\n",
    "# Save the TF-IDF vectorizer too (since text features need conversion)\n",
    "with open(\"vectorizer.pkl\", \"wb\") as f:\n",
    "    pickle.dump(vectorizer, f)\n"
   ]
  },
  {
   "cell_type": "code",
   "execution_count": 24,
   "id": "3cfaed53",
   "metadata": {},
   "outputs": [],
   "source": [
    "#RELOAD THE MODEL WITHOUT TRAINING TO AVOID OVERFITTING\n",
    "\n",
    "import pickle\n",
    "\n",
    "# Load the model\n",
    "with open(\"spam_classifier.pkl\", \"rb\") as f:\n",
    "    loaded_model = pickle.load(f)\n",
    "\n",
    "# Load the vectorizer\n",
    "with open(\"vectorizer.pkl\", \"rb\") as f:\n",
    "    loaded_vectorizer = pickle.load(f)\n"
   ]
  },
  {
   "cell_type": "code",
   "execution_count": 25,
   "id": "cc57ff32",
   "metadata": {},
   "outputs": [
    {
     "name": "stdout",
     "output_type": "stream",
     "text": [
      "[1 1]\n"
     ]
    }
   ],
   "source": [
    "#TEST THE MODEL TO ENSURE ITS WORKING PROPERLY\n",
    "\n",
    "\n",
    "test_email = [\"You’ve won a lottery! Claim your prize now.\",\"Offers on Pizza!\"]\n",
    "test_vectorized = loaded_vectorizer.transform(test_email)\n",
    "\n",
    "print(loaded_model.predict(test_vectorized))  # Outputs 1 (spam) or 0 (ham)\n"
   ]
  }
 ],
 "metadata": {
  "kernelspec": {
   "display_name": "Python 3",
   "language": "python",
   "name": "python3"
  },
  "language_info": {
   "codemirror_mode": {
    "name": "ipython",
    "version": 3
   },
   "file_extension": ".py",
   "mimetype": "text/x-python",
   "name": "python",
   "nbconvert_exporter": "python",
   "pygments_lexer": "ipython3",
   "version": "3.11.9"
  }
 },
 "nbformat": 4,
 "nbformat_minor": 5
}
